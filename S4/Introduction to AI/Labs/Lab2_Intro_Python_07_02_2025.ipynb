{
  "cells": [
    {
      "cell_type": "markdown",
      "metadata": {
        "id": "aU7VVeTy3fJ_"
      },
      "source": [
        "##Lab 2: Introduction to Python\n",
        "In this lab, we will introduce basic Python concepts that are essential for students to understand and successfully follow the upcoming Introduction to AI lab sheets."
      ]
    },
    {
      "cell_type": "markdown",
      "metadata": {
        "id": "5YsEAIR215TE"
      },
      "source": [
        "## Exercise 1: Control Flow and Loops\n",
        "\n",
        "1. Write a `for` loop to print numbers from 1 to 10 using `range()`.\n",
        "2. Write a `while` loop to print numbers from 1 to 10.\n",
        "3. Use an `if-else` statement to print only the even numbers between 1 and 10.\n",
        "4. Given a list `L` containing numbers from 1 to 10, use a `for` loop with `enumerate()` to print both the index and value of each element in the list.\n",
        "5. Use a list comprehension to create a new list `L2` containing the squares of the numbers in list `L1`.\n",
        "6. Use a `for` loop with `zip()` to iterate over lists `L1` and `L2` simultaneously, and print each number along with its square.\n",
        "7. Use a nested loop to print a multiplication table for numbers 1 through 5.\n",
        "\n",
        "\n"
      ]
    },
    {
      "cell_type": "code",
      "execution_count": 6,
      "metadata": {
        "id": "zc8b8gNL5J-B"
      },
      "outputs": [
        {
          "name": "stdout",
          "output_type": "stream",
          "text": [
            "0\n",
            "1\n",
            "2\n",
            "3\n",
            "4\n",
            "5\n",
            "6\n",
            "7\n",
            "8\n",
            "9\n",
            "1\n",
            "2\n",
            "3\n",
            "4\n",
            "5\n",
            "6\n",
            "7\n",
            "8\n",
            "9\n",
            "10\n",
            "11\n",
            "12\n",
            "13\n",
            "14\n",
            "15\n",
            "16\n",
            "17\n",
            "18\n",
            "19\n",
            "20\n",
            "0\n",
            "1\n",
            "Index: 0, Value: 1\n",
            "Index: 1, Value: 2\n",
            "Index: 2, Value: 3\n",
            "Index: 3, Value: 4\n",
            "Index: 4, Value: 5\n",
            "Index: 5, Value: 6\n",
            "Index: 6, Value: 7\n",
            "Index: 7, Value: 8\n",
            "Index: 8, Value: 9\n",
            "Index: 9, Value: 10\n",
            "[1, 4, 9, 16, 25, 36, 49, 64, 81, 100]\n",
            "Number: 1, Square: 1\n",
            "Number: 2, Square: 4\n",
            "Number: 3, Square: 9\n",
            "Number: 4, Square: 16\n",
            "Number: 5, Square: 25\n",
            "Number: 6, Square: 36\n",
            "Number: 7, Square: 49\n",
            "Number: 8, Square: 64\n",
            "Number: 9, Square: 81\n",
            "Number: 10, Square: 100\n",
            "0 * 0 = 0\n",
            "0 * 1 = 0\n",
            "0 * 2 = 0\n",
            "0 * 3 = 0\n",
            "0 * 4 = 0\n",
            "0 * 5 = 0\n",
            "0 * 6 = 0\n",
            "0 * 7 = 0\n",
            "0 * 8 = 0\n",
            "0 * 9 = 0\n",
            "1 * 0 = 0\n",
            "1 * 1 = 1\n",
            "1 * 2 = 2\n",
            "1 * 3 = 3\n",
            "1 * 4 = 4\n",
            "1 * 5 = 5\n",
            "1 * 6 = 6\n",
            "1 * 7 = 7\n",
            "1 * 8 = 8\n",
            "1 * 9 = 9\n",
            "2 * 0 = 0\n",
            "2 * 1 = 2\n",
            "2 * 2 = 4\n",
            "2 * 3 = 6\n",
            "2 * 4 = 8\n",
            "2 * 5 = 10\n",
            "2 * 6 = 12\n",
            "2 * 7 = 14\n",
            "2 * 8 = 16\n",
            "2 * 9 = 18\n",
            "3 * 0 = 0\n",
            "3 * 1 = 3\n",
            "3 * 2 = 6\n",
            "3 * 3 = 9\n",
            "3 * 4 = 12\n",
            "3 * 5 = 15\n",
            "3 * 6 = 18\n",
            "3 * 7 = 21\n",
            "3 * 8 = 24\n",
            "3 * 9 = 27\n",
            "4 * 0 = 0\n",
            "4 * 1 = 4\n",
            "4 * 2 = 8\n",
            "4 * 3 = 12\n",
            "4 * 4 = 16\n",
            "4 * 5 = 20\n",
            "4 * 6 = 24\n",
            "4 * 7 = 28\n",
            "4 * 8 = 32\n",
            "4 * 9 = 36\n",
            "5 * 0 = 0\n",
            "5 * 1 = 5\n",
            "5 * 2 = 10\n",
            "5 * 3 = 15\n",
            "5 * 4 = 20\n",
            "5 * 5 = 25\n",
            "5 * 6 = 30\n",
            "5 * 7 = 35\n",
            "5 * 8 = 40\n",
            "5 * 9 = 45\n"
          ]
        }
      ],
      "source": [
        "# 1\n",
        "for i in range(10):\n",
        "    print(i)\n",
        "i=0\n",
        "# 2\n",
        "while (i < 20):\n",
        "    i += 1\n",
        "    print(i)\n",
        "# 3\n",
        "for i in range(10):\n",
        "    if (i//2 == 0):\n",
        "        print(i)\n",
        "    else:\n",
        "        continue\n",
        "# 4\n",
        "L = list(range(1, 11))\n",
        "for index, value in enumerate(L):\n",
        "    print(f\"Index: {index}, Value: {value}\")\n",
        "# 5\n",
        "L2 = list()\n",
        "for i in L:\n",
        "    L2.append(i**2)\n",
        "print(L2)\n",
        "# 6 \n",
        "for num, square in zip(L, L2):\n",
        "    print(f\"Number: {num}, Square: {square}\")\n",
        "# 7\n",
        "for i in range(6):\n",
        "    for j in range(10):\n",
        "        print(f\"{i} * {j} = {i*j}\")\n",
        "        "
      ]
    },
    {
      "cell_type": "markdown",
      "metadata": {
        "id": "tl5ZFm8-FIiw"
      },
      "source": [
        "## Exercise 2 (Lists)\n",
        "\n",
        "### Part 1: Basic List Operations\n",
        "\n",
        "1. Create a list L1 containing the values `[1, 2, 3, 4, 5]`.\n",
        "\n",
        "2. Append `11` to the end, insert `0` at the beginning, and remove the number `3` from L1.\n",
        "\n",
        "3. Create another list `L2` containing integers from 1 to 10 using `range`.\n",
        "\n",
        "4. Create a list L3 containing the concatenation of the two lists L1 and L2.\n",
        "\n",
        "5. Reverse the order of L3 using list functions.\n",
        "\n",
        "6. Create another list `even` containing only even numbers from L3 using `list comprehension`.\n",
        "\n",
        "7. Create another list `odd` containing only odd numbers from L3 that are  between 2 and 8 (inclusive) using `list comprehension`.\n",
        "\n",
        "###  Part 2: Basic Slicing Operations\n",
        "\n",
        "1. Use slicing to extract the first three elements from L3.\n",
        "\n",
        "2. Use slicing to extract the last two elements from L3.\n",
        "\n",
        "3. Use slicing to create a list L4 that contains every other element from L3 starting with the first one, using slicing. For example, given the list s = [10, 20, 30, 40, 50, 60, 70, 80]. The result should be: [10, 30, 50, 70].\n",
        "\n",
        "4. Use slicing to create a list L5 that contains every other element from L3 starting from the end, using slicing. For example, given the list s = [10, 20, 30, 40, 50, 60, 70, 80]. The result should be: [80, 60, 40, 20].\n",
        "\n",
        "5. Use slicing to reverse the list."
      ]
    },
    {
      "cell_type": "code",
      "execution_count": 8,
      "metadata": {
        "id": "Umu606FT0piD"
      },
      "outputs": [
        {
          "name": "stdout",
          "output_type": "stream",
          "text": [
            "[1, 2, 3, 4, 5]\n",
            "[1, 2, 3, 4, 5, 11]\n",
            "[0, 1, 2, 3, 4, 5, 11]\n",
            "[0, 1, 2, 4, 5, 11]\n",
            "[0, 1, 2, 3, 4, 5, 6, 7, 8, 9]\n",
            "[0, 1, 2, 4, 5, 11, 0, 1, 2, 3, 4, 5, 6, 7, 8, 9]\n",
            "[9, 8, 7, 6, 5, 4, 3, 2, 1, 0, 11, 5, 4, 2, 1, 0]\n",
            "[8, 6, 4, 2, 0, 4, 2, 0]\n",
            "[7, 5, 3, 5]\n",
            "Slicing L3 [9, 8, 7]\n",
            "Slicing L3 [1, 0]\n",
            "L4: [9, 7, 5, 3, 1, 11, 4, 1]\n",
            "L5: [0, 2, 5, 0, 2, 4, 6, 8]\n",
            "Reversed L3: [0, 1, 2, 4, 5, 11, 0, 1, 2, 3, 4, 5, 6, 7, 8, 9]\n"
          ]
        }
      ],
      "source": [
        "L1=[1,2,3,4,5]\n",
        "print(L1)\n",
        "L1.append(11)\n",
        "print(L1)\n",
        "L1.insert(0,0)\n",
        "print(L1)\n",
        "L1.remove(3)\n",
        "print(L1)\n",
        "L2=list(range(10))\n",
        "print(L2)\n",
        "L3=L1+L2\n",
        "print(L3)\n",
        "L3.reverse()\n",
        "print(L3)\n",
        "even = [i for i in L3 if i%2==0]\n",
        "print(even)\n",
        "odd = [i for i in L3 if (i%2!=0 and i<=8 and i>=2)]\n",
        "print(odd)\n",
        "print(f\"Slicing L3 {L3[0:3]}\")\n",
        "print(f\"Slicing L3 {L3[-2:]}\")\n",
        "L4 = L3[::2]\n",
        "print(f\"L4: {L4}\")\n",
        "\n",
        "L5 = L3[::-2]\n",
        "print(f\"L5: {L5}\")\n",
        "\n",
        "L3_reversed = L3[::-1]\n",
        "print(f\"Reversed L3: {L3_reversed}\")"
      ]
    },
    {
      "cell_type": "markdown",
      "metadata": {
        "id": "pUV_8hj40q0s"
      },
      "source": [
        "## Exercise 3 (Matrices Manipulation)\n",
        "\n",
        "### Part 1: Understanding Matrices\n",
        "\n",
        "1. Create a 3×3 matrix with values from 1 to 9. Represent it as a list of lists:\n",
        "\n",
        "   ```python\n",
        "   matrix = [\n",
        "       [1, 2, 3],\n",
        "       [4, 5, 6],\n",
        "       [7, 8, 9]\n",
        "   ]\n",
        "   ```\n",
        "2. Transpose the matrix by swapping rows and columns."
      ]
    },
    {
      "cell_type": "code",
      "execution_count": 1,
      "metadata": {},
      "outputs": [
        {
          "name": "stdout",
          "output_type": "stream",
          "text": [
            "3\n",
            "[(1, 4, 7), (2, 5, 8), (3, 6, 9)]\n"
          ]
        }
      ],
      "source": [
        "matrix = [list(range(1, 4)), list(range(4, 7)), list(range(7, 10))]\n",
        "print(len(matrix))\n",
        "print (list(zip(*matrix)))"
      ]
    },
    {
      "cell_type": "markdown",
      "metadata": {},
      "source": [
        "###  Part 2: Matrices Slicing Operations\n",
        "\n",
        "1. Use slicing to extract the first row of the matrix.\n",
        "\n",
        "2. Use a list comprehension to extract the first column of the matrix.\n",
        "\n",
        "3. Use slicing to create a new matrix that contains only the last two rows of the original matrix.\n",
        "\n",
        "4. Use slicing to reverse the order of rows in the matrix.\n",
        "\n",
        "5. Use a list comprehension to extract the middle column from the matrix.\n",
        "\n"
      ]
    },
    {
      "cell_type": "code",
      "execution_count": 35,
      "metadata": {
        "id": "3vHTZEAL0rl8"
      },
      "outputs": [
        {
          "name": "stdout",
          "output_type": "stream",
          "text": [
            "[1, 2, 3]\n",
            "(1, 4, 7)\n",
            "[[4, 5, 6], [7, 8, 9]]\n",
            "[[7, 8, 9], [4, 5, 6], [1, 2, 3]]\n"
          ]
        }
      ],
      "source": [
        "print(matrix[0])\n",
        "print(list(zip(*matrix))[0])\n",
        "matrix1 = matrix[-2:]\n",
        "print(matrix1)\n",
        "print(matrix[::-1])\n"
      ]
    },
    {
      "cell_type": "code",
      "execution_count": 3,
      "metadata": {},
      "outputs": [
        {
          "name": "stdout",
          "output_type": "stream",
          "text": [
            "[2, 5, 8]\n"
          ]
        }
      ],
      "source": [
        "m = list(matrix[0])\n",
        "mid_index = len(m) //2\n",
        "print([row[mid_index] for row in matrix])"
      ]
    },
    {
      "cell_type": "markdown",
      "metadata": {
        "id": "WmpsQQxD0Bkz"
      },
      "source": [
        "## Exercise 4: Sets and Dictionaries\n",
        "\n",
        "### Part 1: Sets\n",
        "- Given the list `L = [3, 5, 3, 8, 5, 3, 8, 8, 10]`, create a set from `L`.\n",
        "- Add the value `12` to the set.\n",
        "- Remove the value `3` from the set.\n",
        "- Check if the value `8` exists in the set.\n",
        "\n",
        "### Part 2: Dictionaries\n",
        "- Using the same list `L = [3, 5, 3, 8, 5, 3, 8, 8, 10]`, create a dictionary from `L` that maps each unique number to its frequency.\n",
        "- Print the dictionary to show the frequency of each number.\n",
        "- Find the most frequently occurring number.\n",
        "- Find the least frequently occurring number.\n",
        "- Check if the number `7` exists in the dictionary as a key.\n",
        "- Add a new value `12` to `L`, update the dictionary accordingly, and print the updated dictionary.\n",
        "\n",
        "\n"
      ]
    },
    {
      "cell_type": "code",
      "execution_count": 9,
      "metadata": {
        "id": "qR0FlmYd14zA"
      },
      "outputs": [
        {
          "name": "stdout",
          "output_type": "stream",
          "text": [
            "{3: 3, 5: 2, 8: 3, 10: 1}\n",
            "3\n"
          ]
        }
      ],
      "source": [
        "L= [3, 5, 3, 8, 5, 3, 8, 8, 10]\n",
        "dictionary = dict()\n",
        "for i in L:\n",
        "    if i in dictionary:\n",
        "        dictionary[i] += 1\n",
        "    else:\n",
        "        dictionary[i] = 1\n",
        "print(dictionary)\n",
        "max_value = max(dictionary.values())\n",
        "print(max_value)"
      ]
    },
    {
      "cell_type": "markdown",
      "metadata": {
        "id": "PrNpm3-wqgH3"
      },
      "source": [
        "## Exercise 5: Strings Manipulation\n",
        "\n",
        "Given the sentence `\"Python programming is fun!\"`, perform the following:\n",
        "- Extract the substring \"programming\" from the string using slicing.\n",
        "- Convert the string to lowercase.\n",
        "- Replace the word \"programming\" with \"coding\" in the string.\n",
        "- Check if the string starts with \"Python\".\n",
        "- Split the string into a list of words using the `split()` method.\n",
        "- Join the list of words back into a single string with spaces in between.\n",
        "- Use slicing to reverse the string.\n",
        "- Check if the string contains the substring \"coding\"."
      ]
    },
    {
      "cell_type": "code",
      "execution_count": 26,
      "metadata": {
        "id": "bUB5hXOr0BFH"
      },
      "outputs": [
        {
          "name": "stdout",
          "output_type": "stream",
          "text": [
            "programming\n",
            "Python programming is fun!\n",
            "['Python', 'programming', 'is', 'fun!']\n",
            "Python programming is fun!\n",
            "!nuf si gnimmargorp nohtyP\n"
          ]
        },
        {
          "data": {
            "text/plain": [
              "False"
            ]
          },
          "execution_count": 26,
          "metadata": {},
          "output_type": "execute_result"
        }
      ],
      "source": [
        "s= \"Python programming is fun!\"\n",
        "programming=s[7:18]\n",
        "programming.lower()\n",
        "print(programming)\n",
        "s.replace(programming,\"coding\")\n",
        "print(s)\n",
        "s.startswith(\"Python\")\n",
        "split = s.split()\n",
        "print(split)\n",
        "join = \" \".join(split)\n",
        "print(join)\n",
        "join =join[::-1]\n",
        "print(join)\n",
        "join.__contains__(\"coding\")"
      ]
    },
    {
      "cell_type": "markdown",
      "metadata": {
        "id": "pReljd7-3SiB"
      },
      "source": [
        "## Exercise 6: Functions and Modules\n",
        "\n",
        "- Write a function that takes two numbers as arguments and returns their sum.\n",
        "- Write a function that takes a list of numbers and returns the maximum value.\n",
        "- Write a function that takes a string and returns the number of vowels in it.\n",
        "- Write a function that uses `sqrt()` from the `math` module to calculate the square root of any given number.\n",
        "- Write a function that accepts an arbitrary number of keyword arguments and prints them.\n",
        "- Create a custom module named `my_module.py` with a function `greet()` that prints `\"Hello, World!\"` and save it in the same directory as the notebook. After that import and use this function in a notebook.\n",
        "\n"
      ]
    },
    {
      "cell_type": "code",
      "execution_count": 8,
      "metadata": {
        "id": "j8zCtXOE3VnR"
      },
      "outputs": [
        {
          "name": "stdout",
          "output_type": "stream",
          "text": [
            "5\n",
            "4\n",
            "False\n",
            "5.830951894845301\n"
          ]
        }
      ],
      "source": [
        "def add (a,b):\n",
        "    return a+b\n",
        "def max (a,b):\n",
        "    if a>b:\n",
        "        return a\n",
        "    else:\n",
        "        return b\n",
        "def contains_vowel(a):\n",
        "    vowels=['a','e','i','o','u','y']\n",
        "    for i in a:\n",
        "        if i in vowels:\n",
        "            return True\n",
        "    return False\n",
        "from math import sqrt\n",
        "def square_root(a):\n",
        "    return sqrt(a)\n",
        "\n",
        "print(add(2,3))\n",
        "print(max(2.3,4))\n",
        "print(contains_vowel(\"fds\"))\n",
        "print(square_root(34))"
      ]
    },
    {
      "cell_type": "markdown",
      "metadata": {
        "id": "WvOAMSqF3ZB_"
      },
      "source": [
        "## Exercise 7: Object-Oriented Programming\n",
        "\n",
        "- Create a class named `Person` with attributes `name` and `age`. Add a method `introduce()` that prints `\"Hello, my name is [name] and I am [age] years old.\"`\n",
        "- Add a `@property` decorator to the `Person` class to create a read-only attribute `birth_year` that calculates the birth year based on the current year.\n",
        "- Create a subclass `Student` that inherits from `Person` and adds an attribute `major`. Override the `introduce()` method to include the major.\n",
        "- Add a `@classmethod` to the `Person` class that creates a `Person` object from a birth year.\n",
        "- Add a `@staticmethod` to the `Person` class that checks if a given year is a leap year.\n",
        "- Create a class `Vector` with attributes `x` and `y`. Override the `__add__` method to add two `Vector` objects.\n",
        "- Override the `__str__` method in the `Vector` class to print the vector in the format `\"Vector(x, y)\"`.\n",
        "- Create a class `GameCharacter` with attributes `name`, `health`, and `strength`. Add methods `attack()` and `defend()`.\n",
        "- Create a subclass `Villain` that inherits from `GameCharacter` and adds an attribute `evilness`. Override the `attack()` method to include an evil laugh.\n",
        "\n"
      ]
    },
    {
      "cell_type": "code",
      "execution_count": 17,
      "metadata": {
        "id": "_FIvP44u3bDw"
      },
      "outputs": [
        {
          "name": "stdout",
          "output_type": "stream",
          "text": [
            "Hello, my name is Alice and I am 40 years old.\n",
            "1985\n",
            "Hello. my nae is Tarek, and I am 18 years old, I study Computer Science\n",
            "Evil attacks Good\n",
            "Good health is now 80\n",
            "Good attacks Evil\n",
            "Evil health is now 90\n",
            "Evil defends\n",
            "Evil health is now 95\n",
            "Good defends\n",
            "Good health is now 85\n",
            "Good health is now 85\n"
          ]
        }
      ],
      "source": [
        "from datetime import date\n",
        "class Person:\n",
        "    def __init__(self, name, age):\n",
        "        self.name = name\n",
        "        self.age = age\n",
        "\n",
        "    def introduce(self):\n",
        "        print(f\"Hello, my name is {self.name} and I am {self.age} years old.\")\n",
        "    @property\n",
        "    def birth_year(self):\n",
        "        return date.today().year - self.age\n",
        "    @classmethod \n",
        "    def from_birth_year(cls, name, birth_year):\n",
        "        age = date.today().year - birth_year\n",
        "        return cls(name, age)\n",
        "    @staticmethod\n",
        "    def checkLeap():\n",
        "        year = date.today().year\n",
        "        if (year%4==0 and year%100!=0) or (year%400==0):\n",
        "            return True\n",
        "        else:\n",
        "            return False\n",
        "\n",
        "class Student(Person):\n",
        "    def __init__(self, name, age,major):\n",
        "        super().__init__(name, age)\n",
        "        self.major= major\n",
        "    def introduce(self):\n",
        "        print(f\"Hello. my nae is {self.name}, and I am {self.age} years old, I study {self.major}\")\n",
        "\n",
        "# Example usage:\n",
        "person = Person(\"Alice\", 40)\n",
        "person.introduce()\n",
        "print(person.birth_year)\n",
        "student = Student(\"Tarek\", 18, \"Computer Science\")\n",
        "student.introduce()\n",
        "\n",
        "class Vector:\n",
        "    def __init__(self, x, y):\n",
        "        self.x = x\n",
        "        self.y = y\n",
        "    def __add__(self, other):\n",
        "        return Vector(self.x + other.x, self.y + other.y)\n",
        "    def __str__(self):\n",
        "        print(f\"Vector({self.x}, {self.y})\")\n",
        "class GameCharacter:\n",
        "    def __init__(self, name,health,strength):\n",
        "        self.health = health\n",
        "        self.name = name\n",
        "        self.strength = strength\n",
        "    def attack(self, other):\n",
        "        other.health -= self.strength\n",
        "        print(f\"{self.name} attacks {other.name}\")\n",
        "        print(f\"{other.name} health is now {other.health}\")\n",
        "    def defend(self):\n",
        "        self.health += 5\n",
        "        print(f\"{self.name} defends\")\n",
        "        print(f\"{self.name} health is now {self.health}\")\n",
        "class Villian(GameCharacter):\n",
        "    def __init__(self, name, health, strength, evil_power):\n",
        "        super().__init__(name, health, strength)\n",
        "        self.evil_power = evil_power\n",
        "    def attack(self, other):\n",
        "        other.health -= self.evil_power\n",
        "        print(f\"{self.name} attacks {other.name}\")\n",
        "        print(f\"{other.name} health is now {other.health}\")\n",
        "\n",
        "evil = Villian(\"Evil\", 100, 10, 20)\n",
        "good = GameCharacter(\"Good\", 100, 10)\n",
        "evil.attack(good)\n",
        "good.attack(evil)\n",
        "evil.defend()\n",
        "good.defend()\n",
        "print(\"Good health is now\", good.health)"
      ]
    },
    {
      "cell_type": "markdown",
      "metadata": {
        "id": "7DbFVTRR3WCQ"
      },
      "source": [
        "## Exercise 8: File Handling\n",
        "\n",
        "1. Write a program to read a text file (`example.txt`) and print its contents.\n",
        "2. Modify your program to include exception handling. Use a `try`/`except` block to handle cases where the file might not exist or cannot be opened.\n",
        "3. Write a program to write the string `\"Hello, File!\"` to a new file (`output.txt`).\n",
        "4. Write a program to append the string `\"This is a new line.\"` to an existing file (`output.txt`).\n",
        "5. Use the `json` module to write a dictionary `{ \"name\": \"Alice\", \"age\": 25 }` to a JSON file (`data.json`).\n",
        "6. Use the `json` module to read the JSON file (`data.json`) and print its contents.\n",
        "7. Use the `pickle` module to serialize a list `[1, 2, 3, 4, 5]` and save it to a file (`data.pkl`).\n",
        "8. Use the `pickle` module to deserialize the list from the file (`data.pkl`) and print it.\n",
        "9. Use the `csv` module to read a CSV file (`students.csv`) and print each row as a dictionary.\n",
        "10. Use the `csv` module to write a list of dictionaries `[ {\"name\": \"Alice\", \"age\": 25}, {\"name\": \"Bob\", \"age\": 30} ]` to a CSV file (`output.csv`).\n"
      ]
    },
    {
      "cell_type": "code",
      "execution_count": 25,
      "metadata": {
        "id": "w1yDOd6R3Yr6"
      },
      "outputs": [
        {
          "name": "stdout",
          "output_type": "stream",
          "text": [
            "The gentle breeze whispers through the autumn leaves, \n",
            "\n",
            "carrying stories of distant lands and forgotten dreams. \n",
            "\n",
            "Sunlight dances on morning dew, creating tiny rainbows \n",
            "\n",
            "that sparkle like precious gems scattered across the grass. \n",
            "\n",
            "In this moment, time seems to pause, letting nature's simple \n",
            "\n",
            "beauty remind us of life's endless possibilities.\n",
            "The file lab2/example1.txt already exists.\n"
          ]
        }
      ],
      "source": [
        "# Read from file\n",
        "import os\n",
        "\n",
        "file_name = 'lab2/example.txt'\n",
        "if os.path.exists(file_name):\n",
        "    try:\n",
        "        with open(file_name, 'r') as file:\n",
        "            for line in file:\n",
        "                print(line)\n",
        "    except Exception as e:\n",
        "        print(f\"An error occurred: {e}\")\n",
        "else:\n",
        "    print(f\"The file {file_name} does not exist.\")\n",
        "\n",
        "# create file\n",
        "file_name = 'lab2/example1.txt'\n",
        "if not os.path.exists(file_name):\n",
        "    try:\n",
        "        os.makedirs(os.path.dirname(file_name), exist_ok=True)\n",
        "        with open(file_name,'w') as file:\n",
        "            file.write(\"Hello file!\")\n",
        "    except Exception as e:\n",
        "        print(f\"An error occurred: {e}\")\n",
        "else:\n",
        "    print(f\"The file {file_name} already exists.\")\n",
        "\n",
        "# Append to file\n",
        "if os.path.exists(file_name):\n",
        "    try:\n",
        "        with open(file_name, 'a') as file:\n",
        "            file.write(\"\\nHello file! for the second time\")\n",
        "    except Exception as e:\n",
        "        print(f\"An error occurred: {e}\")\n",
        "else :\n",
        "    os.makedirs(os.path.dirname(file_name), exist_ok=True)\n",
        "    with open(file_name, 'w') as file:\n",
        "        file.write(\"\\nHello file! for the second time\")"
      ]
    },
    {
      "cell_type": "code",
      "execution_count": null,
      "metadata": {},
      "outputs": [
        {
          "name": "stdout",
          "output_type": "stream",
          "text": [
            "{'name': 'Tarek', 'age': 20, 'major': 'Computer Science'}\n"
          ]
        }
      ],
      "source": [
        "dictionary = dict(name=\"Tarek\", age=20, major=\"Computer Science\")\n",
        "print(dictionary)\n",
        "file_name = 'lab2/dictionary.json'\n",
        "if not os.path.exists(file_name):\n",
        "    try:\n",
        "        os.makedirs(os.path.dirname(file_name), exist_ok=True)\n",
        "        with open(file_name, 'w') as file:\n",
        "            file.write(str(dictionary))\n",
        "    except Exception as e:\n",
        "        print(f\"An error occurred: {e}\")\n",
        "else:\n",
        "    with open (file_name,'w') as file:\n",
        "        file.write(str(dictionary))"
      ]
    },
    {
      "cell_type": "code",
      "execution_count": 39,
      "metadata": {},
      "outputs": [
        {
          "name": "stdout",
          "output_type": "stream",
          "text": [
            "dict_keys(['name', 'age', 'city', 'married', 'hobbies', 'address'])\n"
          ]
        }
      ],
      "source": [
        "# handling json files\n",
        "import json\n",
        "json_file= \"lab2/sample.json\"\n",
        "if os.path.exists(json_file):\n",
        "    try:\n",
        "        with open  (json_file,'r') as file:\n",
        "            loaded_data = json.load(file)\n",
        "            print(loaded_data.keys())\n",
        "    except Exception as e:\n",
        "        print(f\"A problem just accured{e}\")\n",
        "else:\n",
        "    print(\"file doesn't exist\")"
      ]
    },
    {
      "cell_type": "code",
      "execution_count": 41,
      "metadata": {},
      "outputs": [
        {
          "name": "stdout",
          "output_type": "stream",
          "text": [
            "[1, 3, 4, 5, 6, 667, 4]\n"
          ]
        }
      ],
      "source": [
        "# pickle\n",
        "import pickle\n",
        "list = [1,3,4,5,6,667,4]\n",
        "with open ('lab2/list.pkl','wb') as file:\n",
        "    pickle.dump(list,file)\n",
        "with open ('lab2/list.pkl','rb') as file:\n",
        "    loaded_list = pickle.load(file)\n",
        "    print(loaded_list)"
      ]
    },
    {
      "cell_type": "code",
      "execution_count": null,
      "metadata": {},
      "outputs": [
        {
          "name": "stdout",
          "output_type": "stream",
          "text": [
            "<_io.TextIOWrapper name='lab2/sample.csv' mode='r' encoding='UTF-8'>\n"
          ]
        }
      ],
      "source": [
        "# CSV\n",
        "import csv\n",
        "csv_file = 'lab2/sample.csv'\n",
        "with open (csv_file,'w',newline='') as file:\n",
        "    writer = csv.writer(file)\n",
        "    writer.writerow(['Name','Age','Major'])\n",
        "    writer.writerow(['Tarek',20,'Computer Science'])\n",
        "    writer.writerow(['Alice',40,'Mathematics'])\n",
        "with open (csv_file,'r') as file:\n",
        "    reader = csv.reader(file)\n",
        "    for row in reader:\n",
        "        print(row)\n",
        "    \n"
      ]
    },
    {
      "cell_type": "markdown",
      "metadata": {
        "id": "TIJHpUO03bPh"
      },
      "source": [
        "## Exercise 9: Advanced Topics\n",
        "\n",
        "- Write a decorator `@timer` that measures the time taken to execute a function.\n",
        "- Use a generator to create a sequence of Fibonacci numbers up to `100`.\n",
        "- Write a lambda function that takes two numbers and returns their product.\n",
        "- Use the `map()` function to apply a lambda function that squares each element in a list `[1, 2, 3, 4, 5]`.\n",
        "- Use the `filter()` function to filter out even numbers from a list `[1, 2, 3, 4, 5, 6, 7, 8, 9]`.\n",
        "- Use the `reduce()` function from the `functools` module to calculate the product of all numbers in a list `[1, 2, 3, 4, 5]`.\n",
        "- Write a context manager using the `with` statement to handle file operations.\n",
        "- Use the `itertools` module to generate all permutations of the list `[1, 2, 3]`.\n",
        "- Write a recursive function to calculate the factorial of a number."
      ]
    },
    {
      "cell_type": "code",
      "execution_count": null,
      "metadata": {
        "id": "_YjY-3Qk3b2n"
      },
      "outputs": [
        {
          "name": "stdout",
          "output_type": "stream",
          "text": [
            "5\n",
            "Time taken to execute example_function: 3.814697265625e-05 seconds\n"
          ]
        }
      ],
      "source": [
        "import time\n",
        "\n",
        "def timer(func):\n",
        "    def wrapper(*args, **kwargs):\n",
        "        start_time = time.time()\n",
        "        result = func(*args, **kwargs)\n",
        "        end_time = time.time()\n",
        "        print(f\"Time taken to execute {func.__name__}: {end_time - start_time} seconds\")\n",
        "        return result\n",
        "    return wrapper\n",
        "\n",
        "# Example usage\n",
        "@timer\n",
        "def example_function():\n",
        "    print(add(2, 3))\n",
        "    \n",
        "\n",
        "example_function()"
      ]
    },
    {
      "cell_type": "code",
      "execution_count": 55,
      "metadata": {},
      "outputs": [
        {
          "ename": "KeyboardInterrupt",
          "evalue": "",
          "output_type": "error",
          "traceback": [
            "\u001b[0;31m---------------------------------------------------------------------------\u001b[0m",
            "\u001b[0;31mKeyboardInterrupt\u001b[0m                         Traceback (most recent call last)",
            "Cell \u001b[0;32mIn[55], line 17\u001b[0m\n\u001b[1;32m     15\u001b[0m \u001b[38;5;28;01mif\u001b[39;00m \u001b[38;5;18m__name__\u001b[39m \u001b[38;5;241m==\u001b[39m \u001b[38;5;124m'\u001b[39m\u001b[38;5;124m__main__\u001b[39m\u001b[38;5;124m'\u001b[39m:\n\u001b[1;32m     16\u001b[0m     n \u001b[38;5;241m=\u001b[39m \u001b[38;5;28mint\u001b[39m(\u001b[38;5;28minput\u001b[39m(\u001b[38;5;124m\"\u001b[39m\u001b[38;5;124mEnter the number n: \u001b[39m\u001b[38;5;124m\"\u001b[39m))\n\u001b[0;32m---> 17\u001b[0m     \u001b[38;5;28mprint\u001b[39m(generator(n))\n",
            "Cell \u001b[0;32mIn[55], line 4\u001b[0m, in \u001b[0;36mgenerator\u001b[0;34m(n)\u001b[0m\n\u001b[1;32m      2\u001b[0m l \u001b[38;5;241m=\u001b[39m []\n\u001b[1;32m      3\u001b[0m \u001b[38;5;28;01mfor\u001b[39;00m i \u001b[38;5;129;01min\u001b[39;00m \u001b[38;5;28mrange\u001b[39m(n):\n\u001b[0;32m----> 4\u001b[0m     l\u001b[38;5;241m.\u001b[39mappend(febonacchi(i))\n\u001b[1;32m      5\u001b[0m \u001b[38;5;28;01mreturn\u001b[39;00m l\n",
            "Cell \u001b[0;32mIn[55], line 13\u001b[0m, in \u001b[0;36mfebonacchi\u001b[0;34m(n)\u001b[0m\n\u001b[1;32m     11\u001b[0m     \u001b[38;5;28;01mreturn\u001b[39;00m \u001b[38;5;241m1\u001b[39m\n\u001b[1;32m     12\u001b[0m \u001b[38;5;28;01melse\u001b[39;00m:\n\u001b[0;32m---> 13\u001b[0m     \u001b[38;5;28;01mreturn\u001b[39;00m febonacchi(n\u001b[38;5;241m-\u001b[39m\u001b[38;5;241m1\u001b[39m) \u001b[38;5;241m+\u001b[39m febonacchi(n\u001b[38;5;241m-\u001b[39m\u001b[38;5;241m2\u001b[39m)\n",
            "Cell \u001b[0;32mIn[55], line 13\u001b[0m, in \u001b[0;36mfebonacchi\u001b[0;34m(n)\u001b[0m\n\u001b[1;32m     11\u001b[0m     \u001b[38;5;28;01mreturn\u001b[39;00m \u001b[38;5;241m1\u001b[39m\n\u001b[1;32m     12\u001b[0m \u001b[38;5;28;01melse\u001b[39;00m:\n\u001b[0;32m---> 13\u001b[0m     \u001b[38;5;28;01mreturn\u001b[39;00m febonacchi(n\u001b[38;5;241m-\u001b[39m\u001b[38;5;241m1\u001b[39m) \u001b[38;5;241m+\u001b[39m febonacchi(n\u001b[38;5;241m-\u001b[39m\u001b[38;5;241m2\u001b[39m)\n",
            "    \u001b[0;31m[... skipping similar frames: febonacchi at line 13 (33 times)]\u001b[0m\n",
            "Cell \u001b[0;32mIn[55], line 13\u001b[0m, in \u001b[0;36mfebonacchi\u001b[0;34m(n)\u001b[0m\n\u001b[1;32m     11\u001b[0m     \u001b[38;5;28;01mreturn\u001b[39;00m \u001b[38;5;241m1\u001b[39m\n\u001b[1;32m     12\u001b[0m \u001b[38;5;28;01melse\u001b[39;00m:\n\u001b[0;32m---> 13\u001b[0m     \u001b[38;5;28;01mreturn\u001b[39;00m febonacchi(n\u001b[38;5;241m-\u001b[39m\u001b[38;5;241m1\u001b[39m) \u001b[38;5;241m+\u001b[39m febonacchi(n\u001b[38;5;241m-\u001b[39m\u001b[38;5;241m2\u001b[39m)\n",
            "Cell \u001b[0;32mIn[55], line 7\u001b[0m, in \u001b[0;36mfebonacchi\u001b[0;34m(n)\u001b[0m\n\u001b[1;32m      4\u001b[0m         l\u001b[38;5;241m.\u001b[39mappend(febonacchi(i))\n\u001b[1;32m      5\u001b[0m     \u001b[38;5;28;01mreturn\u001b[39;00m l\n\u001b[0;32m----> 7\u001b[0m \u001b[38;5;28;01mdef\u001b[39;00m \u001b[38;5;21mfebonacchi\u001b[39m(n):\n\u001b[1;32m      8\u001b[0m     \u001b[38;5;28;01mif\u001b[39;00m n \u001b[38;5;241m==\u001b[39m \u001b[38;5;241m0\u001b[39m:\n\u001b[1;32m      9\u001b[0m         \u001b[38;5;28;01mreturn\u001b[39;00m \u001b[38;5;241m1\u001b[39m\n",
            "\u001b[0;31mKeyboardInterrupt\u001b[0m: "
          ]
        }
      ],
      "source": [
        "def generator(n) :\n",
        "    l = []\n",
        "    for i in range(n):\n",
        "        l.append(febonacchi(i))\n",
        "    return l\n",
        "\n",
        "def febonacchi(n):\n",
        "    if n == 0:\n",
        "        return 1\n",
        "    elif n == 1:\n",
        "        return 1\n",
        "    else:\n",
        "        return febonacchi(n-1) + febonacchi(n-2)\n",
        "\n",
        "if __name__ == '__main__':\n",
        "    n = int(input(\"Enter the number n: \"))\n",
        "    print(generator(n))"
      ]
    },
    {
      "cell_type": "code",
      "execution_count": 58,
      "metadata": {},
      "outputs": [
        {
          "name": "stdout",
          "output_type": "stream",
          "text": [
            "12\n",
            "[1, 4, 9, 16, 25]\n",
            "[2, 4]\n"
          ]
        }
      ],
      "source": [
        "multiply = lambda x, y: x * y\n",
        "\n",
        "result = multiply(3, 4)\n",
        "print(result)  # Output: 12\n",
        "numbers = [1, 2, 3, 4, 5]\n",
        "squares = [x*x for x in numbers]  # Using list comprehension instead\n",
        "print(squares)  # Output: [1, 4, 9, 16, 25]\n",
        "filtered = [x for x in numbers if x % 2 == 0]  # Using list comprehension instead\n",
        "print(filtered)"
      ]
    },
    {
      "cell_type": "code",
      "execution_count": 60,
      "metadata": {},
      "outputs": [
        {
          "name": "stdout",
          "output_type": "stream",
          "text": [
            "24\n"
          ]
        }
      ],
      "source": [
        "from functools import reduce\n",
        "product = reduce((lambda x, y: x * y), [1, 2, 3, 4])\n",
        "print(product)"
      ]
    },
    {
      "cell_type": "code",
      "execution_count": 61,
      "metadata": {},
      "outputs": [],
      "source": [
        "# write a context manager using with statement\n",
        "class File:\n",
        "    def __init__(self, file_name, method):\n",
        "        self.file_obj = open(file_name, method)\n",
        "\n",
        "    def __enter__(self):\n",
        "        return self.file_obj\n",
        "\n",
        "    def __exit__(self, type, value, traceback):\n",
        "        self.file_obj.close()"
      ]
    },
    {
      "cell_type": "code",
      "execution_count": null,
      "metadata": {},
      "outputs": [],
      "source": []
    }
  ],
  "metadata": {
    "colab": {
      "provenance": []
    },
    "kernelspec": {
      "display_name": "base",
      "language": "python",
      "name": "python3"
    },
    "language_info": {
      "codemirror_mode": {
        "name": "ipython",
        "version": 3
      },
      "file_extension": ".py",
      "mimetype": "text/x-python",
      "name": "python",
      "nbconvert_exporter": "python",
      "pygments_lexer": "ipython3",
      "version": "3.12.2"
    }
  },
  "nbformat": 4,
  "nbformat_minor": 0
}
